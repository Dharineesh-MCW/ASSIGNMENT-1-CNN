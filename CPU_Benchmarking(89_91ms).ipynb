{
  "cells": [
    {
      "cell_type": "code",
      "execution_count": 2,
      "metadata": {
        "id": "QHRjniWVzP33"
      },
      "outputs": [],
      "source": [
        "import tensorflow as tf\n",
        "import time\n",
        "from tensorflow.keras.datasets import cifar10\n",
        "from tensorflow.keras.models import load_model"
      ]
    },
    {
      "cell_type": "code",
      "source": [
        "from google.colab import drive\n",
        "drive.mount('/content/drive')"
      ],
      "metadata": {
        "colab": {
          "base_uri": "https://localhost:8080/"
        },
        "id": "nWWFOPmczk1f",
        "outputId": "662115cf-500b-49ef-cf9c-e7f36853db68"
      },
      "execution_count": 1,
      "outputs": [
        {
          "output_type": "stream",
          "name": "stdout",
          "text": [
            "Mounted at /content/drive\n"
          ]
        }
      ]
    },
    {
      "cell_type": "code",
      "execution_count": 3,
      "metadata": {
        "colab": {
          "base_uri": "https://localhost:8080/"
        },
        "id": "itVjEDU8zP35",
        "outputId": "da0155ed-dc3d-4bbb-fd70-c4a886f8edfe"
      },
      "outputs": [
        {
          "output_type": "stream",
          "name": "stdout",
          "text": [
            "Downloading data from https://www.cs.toronto.edu/~kriz/cifar-10-python.tar.gz\n",
            "\u001b[1m170498071/170498071\u001b[0m \u001b[32m━━━━━━━━━━━━━━━━━━━━\u001b[0m\u001b[37m\u001b[0m \u001b[1m2s\u001b[0m 0us/step\n"
          ]
        }
      ],
      "source": [
        "(_, _), (X_test, _) = cifar10.load_data()"
      ]
    },
    {
      "cell_type": "code",
      "execution_count": 4,
      "metadata": {
        "id": "cXTmJIqKzP36"
      },
      "outputs": [],
      "source": [
        "X_test = X_test / 255.0"
      ]
    },
    {
      "cell_type": "code",
      "execution_count": 5,
      "metadata": {
        "id": "OgTWruWyzP36"
      },
      "outputs": [],
      "source": [
        "single_sample = X_test[0:1]"
      ]
    },
    {
      "cell_type": "code",
      "execution_count": 6,
      "metadata": {
        "id": "LuLxZIoDzP36"
      },
      "outputs": [],
      "source": [
        "model = load_model('/content/drive/MyDrive/MCW/ASSIGNMENT-1/DataAgumentedModel.keras')"
      ]
    },
    {
      "cell_type": "code",
      "execution_count": 7,
      "metadata": {
        "id": "yTG-cWrizP36"
      },
      "outputs": [],
      "source": [
        "def measure_latency(model, input_data, device, runs=100):\n",
        "    with tf.device(device):\n",
        "        # Warm-up runs (ignored in timing)\n",
        "        for _ in range(10):\n",
        "            _ = model.predict(input_data, verbose=0)\n",
        "\n",
        "        # Measure latency\n",
        "        start_time = time.time()\n",
        "        for _ in range(runs):\n",
        "            _ = model.predict(input_data, verbose=0)\n",
        "        end_time = time.time()\n",
        "\n",
        "    avg_latency = (end_time - start_time) / runs * 1000  # Convert to milliseconds\n",
        "    return avg_latency"
      ]
    },
    {
      "cell_type": "code",
      "execution_count": 8,
      "metadata": {
        "colab": {
          "base_uri": "https://localhost:8080/"
        },
        "id": "_pQlUBh6zP37",
        "outputId": "75d5e23e-8c4a-457b-eada-084d414fe039"
      },
      "outputs": [
        {
          "output_type": "stream",
          "name": "stdout",
          "text": [
            "Average CPU Latency: 89.91 ms\n"
          ]
        }
      ],
      "source": [
        "cpu_latency = measure_latency(model, single_sample, device=\"/cpu:0\")\n",
        "print(f\"Average CPU Latency: {cpu_latency:.2f} ms\")"
      ]
    },
    {
      "cell_type": "code",
      "execution_count": null,
      "metadata": {
        "id": "NTd8sNmczP37",
        "outputId": "88c1aaf9-6982-4468-e47b-0485ec898bad"
      },
      "outputs": [
        {
          "name": "stdout",
          "output_type": "stream",
          "text": [
            "No GPU available.\n"
          ]
        }
      ],
      "source": [
        "if tf.config.list_physical_devices('GPU'):\n",
        "    gpu_latency = measure_latency(model, single_sample, device=\"/gpu:0\")\n",
        "    print(f\"Average GPU Latency: {gpu_latency:.2f} ms\")\n",
        "else:\n",
        "    print(\"No GPU available.\")"
      ]
    },
    {
      "cell_type": "code",
      "execution_count": null,
      "metadata": {
        "id": "ZLsazbpHzP37"
      },
      "outputs": [],
      "source": []
    }
  ],
  "metadata": {
    "kernelspec": {
      "display_name": "Python 3",
      "name": "python3"
    },
    "language_info": {
      "codemirror_mode": {
        "name": "ipython",
        "version": 3
      },
      "file_extension": ".py",
      "mimetype": "text/x-python",
      "name": "python",
      "nbconvert_exporter": "python",
      "pygments_lexer": "ipython3",
      "version": "3.11.0"
    },
    "colab": {
      "provenance": []
    }
  },
  "nbformat": 4,
  "nbformat_minor": 0
}