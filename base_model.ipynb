{
 "cells": [
  {
   "cell_type": "code",
   "execution_count": 1,
   "metadata": {},
   "outputs": [],
   "source": [
    "\n",
    "# importing required libraries\n",
    "from tensorflow.keras.datasets import cifar10\n",
    "import tensorflow as tf\n",
    "from tensorflow.keras.models import Sequential\n",
    "from tensorflow.keras.layers import Conv2D,MaxPool2D,Dense,Flatten,Dropout,Input, AveragePooling2D, Activation,Conv2D, MaxPooling2D, BatchNormalization,Concatenate\n",
    "from tensorflow.keras.callbacks import EarlyStopping, TensorBoard\n",
    "from tensorflow.keras import regularizers, optimizers"
   ]
  },
  {
   "cell_type": "code",
   "execution_count": 4,
   "metadata": {},
   "outputs": [
    {
     "name": "stdout",
     "output_type": "stream",
     "text": [
      "Model: \"sequential\"\n",
      "_________________________________________________________________\n",
      " Layer (type)                Output Shape              Param #   \n",
      "=================================================================\n",
      " conv2d (Conv2D)             (None, 32, 32, 32)        896       \n",
      "                                                                 \n",
      " batch_normalization (BatchN  (None, 32, 32, 32)       128       \n",
      " ormalization)                                                   \n",
      "                                                                 \n",
      " max_pooling2d (MaxPooling2D  (None, 16, 16, 32)       0         \n",
      " )                                                               \n",
      "                                                                 \n",
      " dropout (Dropout)           (None, 16, 16, 32)        0         \n",
      "                                                                 \n",
      " conv2d_1 (Conv2D)           (None, 16, 16, 64)        18496     \n",
      "                                                                 \n",
      " batch_normalization_1 (Batc  (None, 16, 16, 64)       256       \n",
      " hNormalization)                                                 \n",
      "                                                                 \n",
      " max_pooling2d_1 (MaxPooling  (None, 8, 8, 64)         0         \n",
      " 2D)                                                             \n",
      "                                                                 \n",
      " dropout_1 (Dropout)         (None, 8, 8, 64)          0         \n",
      "                                                                 \n",
      " conv2d_2 (Conv2D)           (None, 8, 8, 128)         73856     \n",
      "                                                                 \n",
      " batch_normalization_2 (Batc  (None, 8, 8, 128)        512       \n",
      " hNormalization)                                                 \n",
      "                                                                 \n",
      " max_pooling2d_2 (MaxPooling  (None, 4, 4, 128)        0         \n",
      " 2D)                                                             \n",
      "                                                                 \n",
      " dropout_2 (Dropout)         (None, 4, 4, 128)         0         \n",
      "                                                                 \n",
      " flatten (Flatten)           (None, 2048)              0         \n",
      "                                                                 \n",
      " dense (Dense)               (None, 256)               524544    \n",
      "                                                                 \n",
      " dropout_3 (Dropout)         (None, 256)               0         \n",
      "                                                                 \n",
      " dense_1 (Dense)             (None, 10)                2570      \n",
      "                                                                 \n",
      "=================================================================\n",
      "Total params: 621,258\n",
      "Trainable params: 620,810\n",
      "Non-trainable params: 448\n",
      "_________________________________________________________________\n"
     ]
    }
   ],
   "source": [
    "\n",
    "(x_train, y_train), (x_test, y_test) = cifar10.load_data()\n",
    "x_train = x_train / 255.0\n",
    "x_test = x_test / 255.0 \n",
    "\n",
    "#creating a model  with 3 convolution and 2 dense layer\n",
    "\n",
    "model = Sequential()\n",
    "\n",
    "# Block 1\n",
    "model.add(Conv2D(32, (3, 3), activation='relu', padding='same', input_shape=(32, 32, 3)))\n",
    "model.add(BatchNormalization())\n",
    "model.add(MaxPool2D((2, 2)))\n",
    "model.add(Dropout(0.3))\n",
    "\n",
    "# Block 2\n",
    "model.add(Conv2D(64, (3, 3), activation='relu', padding='same'))\n",
    "model.add(BatchNormalization())\n",
    "model.add(MaxPool2D((2, 2)))\n",
    "model.add(Dropout(0.3))\n",
    "\n",
    "# Block 3 \n",
    "model.add(Conv2D(128, (3, 3), activation='relu', padding='same'))\n",
    "model.add(BatchNormalization())\n",
    "model.add(MaxPool2D((2, 2)))\n",
    "model.add(Dropout(0.4))\n",
    "\n",
    "# Fully Connected Layer\n",
    "model.add(Flatten())\n",
    "# ADDED 256 NEURONS FOR MORE ACCURACY\n",
    "model.add(Dense(256, activation='relu'))  \n",
    "model.add(Dropout(0.5))\n",
    "model.add(Dense(10, activation='softmax')) \n",
    "model.summary()\n"
   ]
  },
  {
   "cell_type": "code",
   "execution_count": 5,
   "metadata": {},
   "outputs": [],
   "source": [
    "#Compiling the Model\n",
    "model.compile(optimizer='adam',\n",
    "              loss='sparse_categorical_crossentropy',\n",
    "              metrics=['accuracy'])"
   ]
  },
  {
   "cell_type": "code",
   "execution_count": 6,
   "metadata": {},
   "outputs": [
    {
     "name": "stdout",
     "output_type": "stream",
     "text": [
      "Epoch 1/15\n",
      "782/782 [==============================] - 15s 10ms/step - loss: 1.7915 - accuracy: 0.3580 - val_loss: 1.6989 - val_accuracy: 0.4038\n",
      "Epoch 2/15\n",
      "782/782 [==============================] - 7s 9ms/step - loss: 1.4237 - accuracy: 0.4860 - val_loss: 1.9437 - val_accuracy: 0.4394\n",
      "Epoch 3/15\n",
      "782/782 [==============================] - 7s 9ms/step - loss: 1.2614 - accuracy: 0.5509 - val_loss: 1.1087 - val_accuracy: 0.6170\n",
      "Epoch 4/15\n",
      "782/782 [==============================] - 7s 9ms/step - loss: 1.1601 - accuracy: 0.5923 - val_loss: 1.0457 - val_accuracy: 0.6310\n",
      "Epoch 5/15\n",
      "782/782 [==============================] - 7s 9ms/step - loss: 1.0741 - accuracy: 0.6257 - val_loss: 0.9004 - val_accuracy: 0.6819\n",
      "Epoch 6/15\n",
      "782/782 [==============================] - 7s 9ms/step - loss: 1.0237 - accuracy: 0.6429 - val_loss: 1.1585 - val_accuracy: 0.6070\n",
      "Epoch 7/15\n",
      "782/782 [==============================] - 7s 9ms/step - loss: 0.9714 - accuracy: 0.6604 - val_loss: 1.1332 - val_accuracy: 0.6090\n",
      "Epoch 8/15\n",
      "782/782 [==============================] - 7s 9ms/step - loss: 0.9357 - accuracy: 0.6769 - val_loss: 0.7858 - val_accuracy: 0.7354\n",
      "Epoch 9/15\n",
      "782/782 [==============================] - 7s 9ms/step - loss: 0.9072 - accuracy: 0.6845 - val_loss: 0.9870 - val_accuracy: 0.6704\n",
      "Epoch 10/15\n",
      "782/782 [==============================] - 7s 9ms/step - loss: 0.8905 - accuracy: 0.6891 - val_loss: 0.8417 - val_accuracy: 0.7025\n",
      "Epoch 11/15\n",
      "782/782 [==============================] - 7s 9ms/step - loss: 0.8520 - accuracy: 0.7050 - val_loss: 0.8091 - val_accuracy: 0.7242\n",
      "Epoch 12/15\n",
      "782/782 [==============================] - 7s 9ms/step - loss: 0.8367 - accuracy: 0.7124 - val_loss: 0.7838 - val_accuracy: 0.7368\n",
      "Epoch 13/15\n",
      "782/782 [==============================] - 8s 10ms/step - loss: 0.8068 - accuracy: 0.7215 - val_loss: 0.8195 - val_accuracy: 0.7222\n",
      "Epoch 14/15\n",
      "782/782 [==============================] - 7s 10ms/step - loss: 0.7914 - accuracy: 0.7243 - val_loss: 0.6924 - val_accuracy: 0.7654\n",
      "Epoch 15/15\n",
      "782/782 [==============================] - 7s 10ms/step - loss: 0.7792 - accuracy: 0.7333 - val_loss: 0.7055 - val_accuracy: 0.7626\n"
     ]
    },
    {
     "data": {
      "text/plain": [
       "<keras.callbacks.History at 0x1ac9bf9d0a0>"
      ]
     },
     "execution_count": 6,
     "metadata": {},
     "output_type": "execute_result"
    }
   ],
   "source": [
    "#train the model\n",
    "model.fit(x_train, y_train, epochs=15, validation_data=(x_test, y_test), batch_size=64)\n"
   ]
  },
  {
   "cell_type": "code",
   "execution_count": 14,
   "metadata": {},
   "outputs": [
    {
     "name": "stdout",
     "output_type": "stream",
     "text": [
      "313/313 - 3s - loss: 0.7690 - accuracy: 0.7340 - 3s/epoch - 10ms/step\n",
      "\n",
      "Test accuracy: 0.73\n"
     ]
    }
   ],
   "source": [
    "#evaluating the model\n",
    "test_loss, test_acc = model.evaluate(x_test, y_test, verbose=2)\n",
    "print(f\"\\nTest accuracy: {test_acc:.2f}\")"
   ]
  }
 ],
 "metadata": {
  "kernelspec": {
   "display_name": "tfenv",
   "language": "python",
   "name": "python3"
  },
  "language_info": {
   "codemirror_mode": {
    "name": "ipython",
    "version": 3
   },
   "file_extension": ".py",
   "mimetype": "text/x-python",
   "name": "python",
   "nbconvert_exporter": "python",
   "pygments_lexer": "ipython3",
   "version": "3.9.21"
  }
 },
 "nbformat": 4,
 "nbformat_minor": 2
}
